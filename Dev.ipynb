{
 "cells": [
  {
   "cell_type": "code",
   "execution_count": 47,
   "id": "9669cfc4-822b-498e-9c1f-5692dbeebfc6",
   "metadata": {},
   "outputs": [],
   "source": [
    "from tqdm import tqdm\n",
    "import numpy as np\n",
    "import os\n",
    "import dask"
   ]
  },
  {
   "cell_type": "code",
   "execution_count": 31,
   "id": "098431cd-d21a-49b1-88ff-c805ef2632e7",
   "metadata": {},
   "outputs": [],
   "source": [
    "import importlib"
   ]
  },
  {
   "cell_type": "code",
   "execution_count": 7,
   "id": "b24711b1-b114-45a7-98e7-4440e33c1f12",
   "metadata": {},
   "outputs": [],
   "source": [
    "from coppafish.pipeline.run import initialize_nb\n",
    "from coppafish.utils import nd2"
   ]
  },
  {
   "cell_type": "code",
   "execution_count": 3,
   "id": "a16bff66-50d4-43d9-b455-58864a746451",
   "metadata": {},
   "outputs": [
    {
     "name": "stderr",
     "output_type": "stream",
     "text": [
      "/home/mathieubo/iss_dev/coppafish/coppafish/setup/notebook.py:279: UserWarning: Notebook file not found, creating a new notebook.\n",
      "  warnings.warn(\"Notebook file not found, creating a new notebook.\")\n",
      "/home/mathieubo/iss_dev/coppafish/coppafish/pipeline/basic_info.py:66: UserWarning: Anchor file given and anchor channel specified.\n",
      "Will use anchor round, channel 18 as reference\n",
      "  warnings.warn(f\"Anchor file given and anchor channel specified.\"\n"
     ]
    },
    {
     "name": "stdout",
     "output_type": "stream",
     "text": [
      "Image file contain a single tile, changing metadata format\n"
     ]
    },
    {
     "name": "stderr",
     "output_type": "stream",
     "text": [
      "Reading XY metadata: 58it [00:02, 26.51it/s]\n",
      "/home/mathieubo/anaconda3/envs/coppafish_dev/lib/python3.9/site-packages/numpy/lib/type_check.py:300: FutureWarning: elementwise comparison failed; returning scalar instead, but in the future will perform elementwise comparison\n",
      "  return imag(x) == 0\n"
     ]
    },
    {
     "name": "stdout",
     "output_type": "stream",
     "text": [
      "Notebook saved: took 0.01612257957458496 seconds\n"
     ]
    }
   ],
   "source": [
    "nb = initialize_nb('/home/mathieubo/AgeingProject/WT50_28mo.ini', True)"
   ]
  },
  {
   "cell_type": "code",
   "execution_count": 27,
   "id": "91c7481c-8dd2-495b-9831-f1681921172a",
   "metadata": {},
   "outputs": [],
   "source": [
    "from coppafish.utils.raw import load_dask"
   ]
  },
  {
   "cell_type": "code",
   "execution_count": 28,
   "id": "8fc8922d-0625-4513-9b75-2e78ca8b5289",
   "metadata": {},
   "outputs": [
    {
     "name": "stderr",
     "output_type": "stream",
     "text": [
      "Loading tiles in dask array: 100%|██████████████████████████████████████████████████████████████████████████████████████████████████████| 58/58 [00:42<00:00,  1.38it/s]\n"
     ]
    }
   ],
   "source": [
    "da = load_dask(nb.file_names, nb.basic_info, 0)"
   ]
  },
  {
   "cell_type": "code",
   "execution_count": 4,
   "id": "c0adad4e-9778-4a5f-9107-7cd7c1e8b932",
   "metadata": {},
   "outputs": [],
   "source": [
    "n_tiles = 58\n",
    "n_lasers = 7\n",
    "r = 0"
   ]
  },
  {
   "cell_type": "code",
   "execution_count": 5,
   "id": "9ddad8bf-8db6-4936-b341-93db44dc7d61",
   "metadata": {},
   "outputs": [],
   "source": [
    "nbp_file = nb.file_names"
   ]
  },
  {
   "cell_type": "code",
   "execution_count": 25,
   "id": "45415e15-f055-477e-8bfe-245ae2086c85",
   "metadata": {},
   "outputs": [
    {
     "name": "stderr",
     "output_type": "stream",
     "text": [
      "Loading tiles in dask array: 100%|██████████████████████████████████████████████████████████████████████████████████████████████████████| 58/58 [00:41<00:00,  1.38it/s]\n"
     ]
    }
   ],
   "source": [
    "round_laser_dask_array = []\n",
    "\n",
    "#Get all files of a given round\n",
    "round_files = nbp_file.round[r*n_tiles*n_lasers:(r+1)*n_tiles*n_lasers]\n",
    "\n",
    "for t in tqdm(range(n_tiles), desc='Loading tiles in dask array'):\n",
    "    #Get all the files of a given tiles (should be 7)\n",
    "    tile_files = round_files[t*n_lasers: (t+1)*n_lasers]\n",
    "    tile_dask_array = []\n",
    "    \n",
    "    for f in tile_files:\n",
    "        laser_file = os.path.join(nbp_file.input_dir, f + '.nd2')\n",
    "        tile_dask_array.append(nd2.load(laser_file))\n",
    "    tile_da = dask.array.concatenate(tile_dask_array, axis=-1)  # concatenate on the laser axis\n",
    "    tile_da = dask.array.swapaxes(tile_da, -1, 0)  # we need 'channel', 'z', 'y','x'\n",
    "\n",
    "    round_laser_dask_array.append(tile_da)"
   ]
  },
  {
   "cell_type": "code",
   "execution_count": 35,
   "id": "1e5cd3de-1b67-46bd-8988-bbfd79ca2a51",
   "metadata": {},
   "outputs": [],
   "source": [
    "rda = dask.array.stack(round_laser_dask_array, axis=0)"
   ]
  },
  {
   "cell_type": "code",
   "execution_count": 37,
   "id": "44f695b5-1a62-4eea-9982-7c5b8cdeba7b",
   "metadata": {},
   "outputs": [],
   "source": [
    "from coppafish.utils.raw import load_image"
   ]
  },
  {
   "cell_type": "code",
   "execution_count": 39,
   "id": "0817f1bc-d0e8-4ee9-8dfc-1a1543533a58",
   "metadata": {},
   "outputs": [],
   "source": [
    "a = load_image(nb.file_names, nb.basic_info, t=5, c=0, round_dask_array=rda, r=0)"
   ]
  },
  {
   "cell_type": "code",
   "execution_count": 42,
   "id": "3f167a30-bd7e-4f8c-a519-fb693d7c4eec",
   "metadata": {},
   "outputs": [],
   "source": [
    "import napari"
   ]
  },
  {
   "cell_type": "code",
   "execution_count": 43,
   "id": "35dc662c-7970-406d-8a4f-2cd5c02e9039",
   "metadata": {},
   "outputs": [],
   "source": [
    "viewre = napari.Viewer()"
   ]
  },
  {
   "cell_type": "code",
   "execution_count": 44,
   "id": "0234feea-fc2d-4ef6-a066-50b8ae709382",
   "metadata": {},
   "outputs": [
    {
     "data": {
      "text/plain": [
       "<Image layer 'a' at 0x7f0e8c74d820>"
      ]
     },
     "execution_count": 44,
     "metadata": {},
     "output_type": "execute_result"
    }
   ],
   "source": [
    "viewre.add_image(a)"
   ]
  },
  {
   "cell_type": "code",
   "execution_count": 50,
   "id": "61717fb8-12d2-4124-a9ce-f1f351a7d2cb",
   "metadata": {},
   "outputs": [],
   "source": [
    "use_channels = nb.basic_info.use_channels\n",
    "use_z = nb.basic_info.use_z\n",
    "nbp_basic = nb.basic_info"
   ]
  },
  {
   "cell_type": "code",
   "execution_count": 51,
   "id": "34ed2786-6f1f-436f-b4ea-ea4102357744",
   "metadata": {},
   "outputs": [],
   "source": [
    "image_max = np.zeros((len(use_channels), len(use_z)))\n",
    "for i in range(len(use_channels)):\n",
    "    image_max[i, :] = np.max(np.max(load_image(nbp_file, nbp_basic, t, use_channels[i],\n",
    "                                                         rda, r, use_z), axis=0), axis=0)\n",
    "max_channel = use_channels[np.max(image_max, axis=1).argmax()]\n",
    "max_z = use_z[np.max(image_max, axis=0).argmax()]"
   ]
  },
  {
   "cell_type": "code",
   "execution_count": 53,
   "id": "b6883203-1b24-4fbb-ae32-2f41f60ff6eb",
   "metadata": {},
   "outputs": [
    {
     "data": {
      "text/plain": [
       "23"
      ]
     },
     "execution_count": 53,
     "metadata": {},
     "output_type": "execute_result"
    }
   ],
   "source": [
    "max_channel"
   ]
  },
  {
   "cell_type": "code",
   "execution_count": 54,
   "id": "cde75ff9-c3e5-4c5e-92a7-fd7e9a1e5d8c",
   "metadata": {},
   "outputs": [
    {
     "data": {
      "text/plain": [
       "'jobs'"
      ]
     },
     "execution_count": 54,
     "metadata": {},
     "output_type": "execute_result"
    }
   ],
   "source": [
    "nb.file_names.raw_extension"
   ]
  },
  {
   "cell_type": "code",
   "execution_count": null,
   "id": "83aa87ec-590b-429c-a6a7-fa74f2dcac27",
   "metadata": {},
   "outputs": [],
   "source": []
  }
 ],
 "metadata": {
  "kernelspec": {
   "display_name": "coppafishdev",
   "language": "python",
   "name": "coppafishdev"
  },
  "language_info": {
   "codemirror_mode": {
    "name": "ipython",
    "version": 3
   },
   "file_extension": ".py",
   "mimetype": "text/x-python",
   "name": "python",
   "nbconvert_exporter": "python",
   "pygments_lexer": "ipython3",
   "version": "3.9.16"
  }
 },
 "nbformat": 4,
 "nbformat_minor": 5
}
