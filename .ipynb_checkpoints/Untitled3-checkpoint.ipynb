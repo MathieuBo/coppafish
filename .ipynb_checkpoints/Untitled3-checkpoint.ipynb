{
 "cells": [
  {
   "cell_type": "code",
   "execution_count": 24,
   "id": "983cedfc-1c93-4567-898e-f5ba0b1452a2",
   "metadata": {
    "tags": []
   },
   "outputs": [],
   "source": [
    "# Inclusions\n",
    "import sys, os\n",
    "sys.path.append(os.path.join('C:/', 'Users','Reilly','PyCharmProjects','iss_python-main'))\n",
    "\n",
    "import numpy as np\n",
    "import matplotlib.pyplot as plt\n",
    "import time\n",
    "import napari\n",
    "from skimage import data\n",
    "from skimage.transform import rotate\n",
    "from skimage.color import rgb2gray\n",
    "import scipy.ndimage as snd\n",
    "# from coppafish.sep_round_reg.run import register_detect_rotation2"
   ]
  },
  {
   "cell_type": "code",
   "execution_count": 25,
   "id": "38136396-ca67-45eb-87c8-76f8a446e020",
   "metadata": {
    "tags": []
   },
   "outputs": [],
   "source": [
    "astronaut = rgb2gray(data.astronaut())\n",
    "astronaut_mod = rotate(astronaut, 7) + np.random.rand(astronaut.shape[0],astronaut.shape[1])"
   ]
  },
  {
   "cell_type": "code",
   "execution_count": 26,
   "id": "c5fa9ea7-76aa-4e42-9c89-d9a314a0c8c8",
   "metadata": {
    "tags": []
   },
   "outputs": [
    {
     "data": {
      "text/plain": [
       "<matplotlib.image.AxesImage at 0x201050cb8b0>"
      ]
     },
     "execution_count": 26,
     "metadata": {},
     "output_type": "execute_result"
    }
   ],
   "source": [
    "# Plot image 1 and image 2 side by side\n",
    "# plot 1\n",
    "plt.subplot(121)\n",
    "plt.imshow(astronaut, cmap=plt.cm.gray)\n",
    "# plot 2:\n",
    "plt.subplot(122)\n",
    "plt.imshow(astronaut_mod, cmap=plt.cm.gray)"
   ]
  },
  {
   "cell_type": "code",
   "execution_count": 11,
   "id": "2411552f-52d0-48d9-ac83-db45a2e9ab38",
   "metadata": {
    "tags": []
   },
   "outputs": [
    {
     "data": {
      "text/plain": [
       "<matplotlib.image.AxesImage at 0x201004df5e0>"
      ]
     },
     "execution_count": 11,
     "metadata": {},
     "output_type": "execute_result"
    }
   ],
   "source": [
    "astronaut_mod = snd.shift(astronaut_mod, [10,30])\n",
    "plt.imshow(astronaut_mod, cmap=plt.cm.gray)"
   ]
  },
  {
   "cell_type": "code",
   "execution_count": 12,
   "id": "a617f039-7eba-48d7-95ff-1800cb878f25",
   "metadata": {},
   "outputs": [
    {
     "data": {
      "text/plain": [
       "<Points layer 'img2_ref' at 0x2010ec9cfa0>"
      ]
     },
     "execution_count": 12,
     "metadata": {},
     "output_type": "execute_result"
    }
   ],
   "source": [
    "# Create Napari viewer\n",
    "\n",
    "viewer = napari.Viewer()\n",
    "\n",
    "# Add image 1 and image 2 as image layers in Napari\n",
    "viewer.add_image(astronaut, name='Image1', blending='additive', colormap='bop orange')\n",
    "viewer.add_image(astronaut_mod, name='Image2', blending='additive', colormap='bop blue')\n",
    "\n",
    "# Add point layers for ref points in image 1 and image 2\n",
    "viewer.add_points(name='img1_ref')\n",
    "viewer.add_points(name='img2_ref')"
   ]
  },
  {
   "cell_type": "code",
   "execution_count": 13,
   "id": "ef18be2f-7c85-4b3e-a617-8b1becaf5282",
   "metadata": {},
   "outputs": [
    {
     "name": "stderr",
     "output_type": "stream",
     "text": [
      "C:\\Users\\Reilly\\AppData\\Local\\Programs\\Python\\Python39\\lib\\site-packages\\numpy\\core\\fromnumeric.py:3432: RuntimeWarning: Mean of empty slice.\n",
      "  return _methods._mean(a, axis=axis, dtype=dtype,\n",
      "C:\\Users\\Reilly\\AppData\\Local\\Programs\\Python\\Python39\\lib\\site-packages\\numpy\\core\\_methods.py:182: RuntimeWarning: invalid value encountered in divide\n",
      "  ret = um.true_divide(\n"
     ]
    }
   ],
   "source": [
    "ref_points1 = viewer.layers['img1_ref'].data\n",
    "ref_points2 = viewer.layers['img2_ref'].data\n",
    "\n",
    "shift = np.mean(ref_points1-ref_points2, axis=0)"
   ]
  },
  {
   "cell_type": "code",
   "execution_count": 14,
   "id": "73ee806b-7167-4a64-ab7d-68d520302602",
   "metadata": {},
   "outputs": [
    {
     "data": {
      "text/plain": [
       "<Image layer 'Image2' at 0x20104656040>"
      ]
     },
     "execution_count": 14,
     "metadata": {},
     "output_type": "execute_result"
    }
   ],
   "source": [
    "astronaut_mod = snd.shift(astronaut_mod, shift)\n",
    "\n",
    "viewer = napari.Viewer()\n",
    "\n",
    "# Add image 1 and image 2 as image layers in Napari\n",
    "viewer.add_image(astronaut, name='Image1', blending='additive', colormap='bop orange')\n",
    "viewer.add_image(astronaut_mod, name='Image2', blending='additive', colormap='bop blue')"
   ]
  },
  {
   "cell_type": "code",
   "execution_count": null,
   "id": "4652fc08-a40f-4054-9c39-330e02dca2e1",
   "metadata": {},
   "outputs": [],
   "source": []
  },
  {
   "cell_type": "code",
   "execution_count": null,
   "id": "cdc56468-193a-4f37-ab7e-54f22a56650a",
   "metadata": {},
   "outputs": [],
   "source": []
  }
 ],
 "metadata": {
  "kernelspec": {
   "display_name": "iss_python_main",
   "language": "python",
   "name": "iss_python_main"
  },
  "language_info": {
   "codemirror_mode": {
    "name": "ipython",
    "version": 3
   },
   "file_extension": ".py",
   "mimetype": "text/x-python",
   "name": "python",
   "nbconvert_exporter": "python",
   "pygments_lexer": "ipython3",
   "version": "3.9.13"
  }
 },
 "nbformat": 4,
 "nbformat_minor": 5
}
